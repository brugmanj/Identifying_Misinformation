{
 "cells": [
  {
   "cell_type": "code",
   "execution_count": 7,
   "metadata": {},
   "outputs": [],
   "source": [
    "import pandas as pd\n",
    "import numpy as np\n",
    "from tweetscrape.search_tweets import TweetScrapperSearch\n",
    "from tweetscrape.profile_tweets import TweetScrapperProfile"
   ]
  },
  {
   "cell_type": "markdown",
   "metadata": {},
   "source": [
    "setting topic and number of tweets to scrape"
   ]
  },
  {
   "cell_type": "code",
   "execution_count": 8,
   "metadata": {},
   "outputs": [],
   "source": [
    "topic = 'coronavirus'\n",
    "number = 40"
   ]
  },
  {
   "cell_type": "markdown",
   "metadata": {},
   "source": [
    "Scraping the tweets and saving them as a csv to twitter.csv in Data folder"
   ]
  },
  {
   "cell_type": "code",
   "execution_count": 13,
   "metadata": {},
   "outputs": [
    {
     "name": "stdout",
     "output_type": "stream",
     "text": [
      "Extracted 40 tweets till 2019-10-23 at twitter2.csv\n"
     ]
    }
   ],
   "source": [
    "tweet_scrapper = TweetScrapperSearch(topic, num_tweets = number, tweet_dump_path='../Data/twitter.csv', tweet_dump_format = 'csv')\n",
    "tweet_count, tweet_id, tweet_time, dump_path = tweet_scrapper.get_search_tweets()\n",
    "print(\"Extracted {0} tweets till {1} at {2}\".format(tweet_count, tweet_time, dump_path))"
   ]
  }
 ],
 "metadata": {
  "kernelspec": {
   "display_name": "Python 3",
   "language": "python",
   "name": "python3"
  },
  "language_info": {
   "codemirror_mode": {
    "name": "ipython",
    "version": 3
   },
   "file_extension": ".py",
   "mimetype": "text/x-python",
   "name": "python",
   "nbconvert_exporter": "python",
   "pygments_lexer": "ipython3",
   "version": "3.7.6"
  }
 },
 "nbformat": 4,
 "nbformat_minor": 4
}
